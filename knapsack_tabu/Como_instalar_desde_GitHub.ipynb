{
  "nbformat": 4,
  "nbformat_minor": 0,
  "metadata": {
    "colab": {
      "provenance": []
    },
    "kernelspec": {
      "name": "python3",
      "display_name": "Python 3"
    },
    "language_info": {
      "name": "python"
    }
  },
  "cells": [
    {
      "cell_type": "markdown",
      "source": [
        "El codigo de abajo instala todos los paquetes existentes en el init del repositorio"
      ],
      "metadata": {
        "id": "ySZ1_7AMlC2k"
      }
    },
    {
      "cell_type": "code",
      "execution_count": 1,
      "metadata": {
        "colab": {
          "base_uri": "https://localhost:8080/"
        },
        "id": "gH7MvAMLilWA",
        "outputId": "4cd49e64-7d66-4266-c26e-e938b0cd0162"
      },
      "outputs": [
        {
          "output_type": "stream",
          "name": "stdout",
          "text": [
            "Collecting git+https://github.com/IsabelOrozco10/knapsack_tabu\n",
            "  Cloning https://github.com/IsabelOrozco10/knapsack_tabu to /tmp/pip-req-build-_7q7j6z6\n",
            "  Running command git clone --filter=blob:none --quiet https://github.com/IsabelOrozco10/knapsack_tabu /tmp/pip-req-build-_7q7j6z6\n",
            "  Resolved https://github.com/IsabelOrozco10/knapsack_tabu to commit dd40c6182f5d52f61e9e5569ebdd5512e0e26611\n",
            "  Preparing metadata (setup.py) ... \u001b[?25l\u001b[?25hdone\n",
            "Building wheels for collected packages: knapsack-tabu\n",
            "  Building wheel for knapsack-tabu (setup.py) ... \u001b[?25l\u001b[?25hdone\n",
            "  Created wheel for knapsack-tabu: filename=knapsack_tabu-0.1-py3-none-any.whl size=3596 sha256=cf5058d81868bfbe6d64148ade8df44a8ee199b8b6e2acb058d1d9f182f9e639\n",
            "  Stored in directory: /tmp/pip-ephem-wheel-cache-41fpzvqx/wheels/1a/09/33/c00ce9ffb73047b28dae1d007c57dc458f3299b30753003d92\n",
            "Successfully built knapsack-tabu\n",
            "Installing collected packages: knapsack-tabu\n",
            "Successfully installed knapsack-tabu-0.1\n"
          ]
        }
      ],
      "source": [
        "! pip install git+https://github.com/IsabelOrozco10/knapsack_tabu"
      ]
    },
    {
      "cell_type": "code",
      "source": [
        "from knapsack_tabu import ProblemaMochilaMod  ### importo la clase problemamochilamod que es la que hace todo el trabajo"
      ],
      "metadata": {
        "id": "4LAzNwbpimIf"
      },
      "execution_count": 2,
      "outputs": []
    },
    {
      "cell_type": "code",
      "source": [
        "# Ejemplo 1\n",
        "item = [\"linterna\", \"libro\", \"baterías\", \"lata\", \"bolsa de dormir\", \"mapa\", \"celular\", \"encendedor\", \"asador\", \"computadora\"]\n",
        "utilidad = {\"linterna\":10, \"libro\":2, \"baterías\":4, \"lata\":7, \"bolsa de dormir\": 20, \"mapa\":6, \"celular\":7, \"encendedor\": 8, \"asador\":6, \"computadora\":7}\n",
        "peso = {\"linterna\":3, \"libro\":5, \"baterías\":1, \"lata\":3, \"bolsa de dormir\": 8, \"mapa\":1, \"celular\": 2, \"encendedor\":1, \"asador\":10, \"computadora\":1}\n",
        "lím = 10\n",
        "\n",
        "Caso_1=ProblemaMochilaMod(item, utilidad, peso, lím)\n",
        "\n",
        "#Solución ejemplo 1\n",
        "mejor_solucion_encontrada = Caso_1.tabu_search(30,8)\n",
        "mejor_solucion_encontrada, Caso_1.vector_ítems(mejor_solucion_encontrada[0])"
      ],
      "metadata": {
        "colab": {
          "base_uri": "https://localhost:8080/"
        },
        "id": "aTLR1iUxlm1g",
        "outputId": "580208d0-0af2-4a61-8a68-c6e8e64161e1"
      },
      "execution_count": 4,
      "outputs": [
        {
          "output_type": "execute_result",
          "data": {
            "text/plain": [
              "((array([1, 0, 1, 0, 0, 1, 1, 1, 0, 1]), 42, 669, 10),\n",
              " ['linterna', 'baterías', 'mapa', 'celular', 'encendedor', 'computadora'])"
            ]
          },
          "metadata": {},
          "execution_count": 4
        }
      ]
    }
  ]
}
